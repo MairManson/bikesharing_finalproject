{
 "metadata": {
  "language_info": {
   "codemirror_mode": {
    "name": "ipython",
    "version": 3
   },
   "file_extension": ".py",
   "mimetype": "text/x-python",
   "name": "python",
   "nbconvert_exporter": "python",
   "pygments_lexer": "ipython3",
   "version": "3.7.9"
  },
  "orig_nbformat": 4,
  "kernelspec": {
   "name": "python3",
   "display_name": "Python 3.7.9 64-bit ('ConPythonData': conda)"
  },
  "interpreter": {
   "hash": "a9fffb1ace5d2ccf1d9207a256a25b07ceddc0aabe7ee6c8bafea7a62de072e2"
  }
 },
 "nbformat": 4,
 "nbformat_minor": 2,
 "cells": [
  {
   "cell_type": "code",
   "execution_count": 17,
   "metadata": {},
   "outputs": [],
   "source": [
    "import pandas as pd\n",
    "import os\n",
    "from path import Path\n",
    "from matplotlib import pyplot as plt\n",
    "\n",
    "import statsmodels as sm\n",
    "import statsmodels.tsa.stattools\n",
    "from statsmodels.graphics.tsaplots import plot_acf, plot_pacf\n",
    "from statsmodels.tsa.arima_model import ARIMA\n",
    "import statistics"
   ]
  },
  {
   "cell_type": "code",
   "execution_count": 3,
   "metadata": {},
   "outputs": [
    {
     "output_type": "stream",
     "name": "stdout",
     "text": [
      "   trip_number            startdate membertype weekday  tclassic  tdocked  \\\n0     26433601  2020-05-01 00:02:02     Member  Friday       0.0      1.0   \n1     26433602  2020-05-01 00:03:34     Member  Friday       0.0      1.0   \n2     26433603  2020-05-01 00:21:01     Member  Friday       0.0      1.0   \n3     26433604  2020-05-01 00:21:09     Casual  Friday       0.0      1.0   \n4     26433605  2020-05-01 00:30:26     Member  Friday       0.0      1.0   \n\n   telectric  \n0        0.0  \n1        0.0  \n2        0.0  \n3        0.0  \n4        0.0  \n"
     ]
    }
   ],
   "source": [
    "df = pd.read_csv('./Resources/Data/trips_by_type.csv')\n",
    "print(df.head())"
   ]
  },
  {
   "cell_type": "code",
   "execution_count": 11,
   "metadata": {},
   "outputs": [
    {
     "output_type": "execute_result",
     "data": {
      "text/plain": [
       "trip_number      int64\n",
       "startdate       object\n",
       "membertype      object\n",
       "weekday         object\n",
       "tclassic       float64\n",
       "tdocked        float64\n",
       "telectric      float64\n",
       "dtype: object"
      ]
     },
     "metadata": {},
     "execution_count": 11
    }
   ],
   "source": [
    "df.dtypes"
   ]
  },
  {
   "cell_type": "code",
   "execution_count": 12,
   "metadata": {},
   "outputs": [
    {
     "output_type": "execute_result",
     "data": {
      "text/plain": [
       "   trip_number           startdate membertype weekday  tclassic  tdocked  \\\n",
       "0     26433601 2020-05-01 00:02:02     Member  Friday       0.0      1.0   \n",
       "1     26433602 2020-05-01 00:03:34     Member  Friday       0.0      1.0   \n",
       "2     26433603 2020-05-01 00:21:01     Member  Friday       0.0      1.0   \n",
       "3     26433604 2020-05-01 00:21:09     Casual  Friday       0.0      1.0   \n",
       "4     26433605 2020-05-01 00:30:26     Member  Friday       0.0      1.0   \n",
       "\n",
       "   telectric  \n",
       "0        0.0  \n",
       "1        0.0  \n",
       "2        0.0  \n",
       "3        0.0  \n",
       "4        0.0  "
      ],
      "text/html": "<div>\n<style scoped>\n    .dataframe tbody tr th:only-of-type {\n        vertical-align: middle;\n    }\n\n    .dataframe tbody tr th {\n        vertical-align: top;\n    }\n\n    .dataframe thead th {\n        text-align: right;\n    }\n</style>\n<table border=\"1\" class=\"dataframe\">\n  <thead>\n    <tr style=\"text-align: right;\">\n      <th></th>\n      <th>trip_number</th>\n      <th>startdate</th>\n      <th>membertype</th>\n      <th>weekday</th>\n      <th>tclassic</th>\n      <th>tdocked</th>\n      <th>telectric</th>\n    </tr>\n  </thead>\n  <tbody>\n    <tr>\n      <th>0</th>\n      <td>26433601</td>\n      <td>2020-05-01 00:02:02</td>\n      <td>Member</td>\n      <td>Friday</td>\n      <td>0.0</td>\n      <td>1.0</td>\n      <td>0.0</td>\n    </tr>\n    <tr>\n      <th>1</th>\n      <td>26433602</td>\n      <td>2020-05-01 00:03:34</td>\n      <td>Member</td>\n      <td>Friday</td>\n      <td>0.0</td>\n      <td>1.0</td>\n      <td>0.0</td>\n    </tr>\n    <tr>\n      <th>2</th>\n      <td>26433603</td>\n      <td>2020-05-01 00:21:01</td>\n      <td>Member</td>\n      <td>Friday</td>\n      <td>0.0</td>\n      <td>1.0</td>\n      <td>0.0</td>\n    </tr>\n    <tr>\n      <th>3</th>\n      <td>26433604</td>\n      <td>2020-05-01 00:21:09</td>\n      <td>Casual</td>\n      <td>Friday</td>\n      <td>0.0</td>\n      <td>1.0</td>\n      <td>0.0</td>\n    </tr>\n    <tr>\n      <th>4</th>\n      <td>26433605</td>\n      <td>2020-05-01 00:30:26</td>\n      <td>Member</td>\n      <td>Friday</td>\n      <td>0.0</td>\n      <td>1.0</td>\n      <td>0.0</td>\n    </tr>\n  </tbody>\n</table>\n</div>"
     },
     "metadata": {},
     "execution_count": 12
    }
   ],
   "source": [
    "# Convert date object to datetime\n",
    "df['startdate'] = pd.to_datetime(df['startdate'])\n",
    "df.head()"
   ]
  },
  {
   "cell_type": "code",
   "execution_count": 13,
   "metadata": {},
   "outputs": [
    {
     "output_type": "execute_result",
     "data": {
      "text/plain": [
       "trip_number             int64\n",
       "startdate      datetime64[ns]\n",
       "membertype             object\n",
       "weekday                object\n",
       "tclassic              float64\n",
       "tdocked               float64\n",
       "telectric             float64\n",
       "dtype: object"
      ]
     },
     "metadata": {},
     "execution_count": 13
    }
   ],
   "source": [
    "df.dtypes"
   ]
  },
  {
   "cell_type": "code",
   "execution_count": 15,
   "metadata": {},
   "outputs": [
    {
     "output_type": "execute_result",
     "data": {
      "text/plain": [
       "                     trip_number membertype weekday  tclassic  tdocked  \\\n",
       "startdate                                                                \n",
       "2020-05-01 00:02:02     26433601     Member  Friday       0.0      1.0   \n",
       "2020-05-01 00:03:34     26433602     Member  Friday       0.0      1.0   \n",
       "2020-05-01 00:21:01     26433603     Member  Friday       0.0      1.0   \n",
       "2020-05-01 00:21:09     26433604     Casual  Friday       0.0      1.0   \n",
       "2020-05-01 00:30:26     26433605     Member  Friday       0.0      1.0   \n",
       "\n",
       "                     telectric  \n",
       "startdate                       \n",
       "2020-05-01 00:02:02        0.0  \n",
       "2020-05-01 00:03:34        0.0  \n",
       "2020-05-01 00:21:01        0.0  \n",
       "2020-05-01 00:21:09        0.0  \n",
       "2020-05-01 00:30:26        0.0  "
      ],
      "text/html": "<div>\n<style scoped>\n    .dataframe tbody tr th:only-of-type {\n        vertical-align: middle;\n    }\n\n    .dataframe tbody tr th {\n        vertical-align: top;\n    }\n\n    .dataframe thead th {\n        text-align: right;\n    }\n</style>\n<table border=\"1\" class=\"dataframe\">\n  <thead>\n    <tr style=\"text-align: right;\">\n      <th></th>\n      <th>trip_number</th>\n      <th>membertype</th>\n      <th>weekday</th>\n      <th>tclassic</th>\n      <th>tdocked</th>\n      <th>telectric</th>\n    </tr>\n    <tr>\n      <th>startdate</th>\n      <th></th>\n      <th></th>\n      <th></th>\n      <th></th>\n      <th></th>\n      <th></th>\n    </tr>\n  </thead>\n  <tbody>\n    <tr>\n      <th>2020-05-01 00:02:02</th>\n      <td>26433601</td>\n      <td>Member</td>\n      <td>Friday</td>\n      <td>0.0</td>\n      <td>1.0</td>\n      <td>0.0</td>\n    </tr>\n    <tr>\n      <th>2020-05-01 00:03:34</th>\n      <td>26433602</td>\n      <td>Member</td>\n      <td>Friday</td>\n      <td>0.0</td>\n      <td>1.0</td>\n      <td>0.0</td>\n    </tr>\n    <tr>\n      <th>2020-05-01 00:21:01</th>\n      <td>26433603</td>\n      <td>Member</td>\n      <td>Friday</td>\n      <td>0.0</td>\n      <td>1.0</td>\n      <td>0.0</td>\n    </tr>\n    <tr>\n      <th>2020-05-01 00:21:09</th>\n      <td>26433604</td>\n      <td>Casual</td>\n      <td>Friday</td>\n      <td>0.0</td>\n      <td>1.0</td>\n      <td>0.0</td>\n    </tr>\n    <tr>\n      <th>2020-05-01 00:30:26</th>\n      <td>26433605</td>\n      <td>Member</td>\n      <td>Friday</td>\n      <td>0.0</td>\n      <td>1.0</td>\n      <td>0.0</td>\n    </tr>\n  </tbody>\n</table>\n</div>"
     },
     "metadata": {},
     "execution_count": 15
    }
   ],
   "source": [
    "# Set index to 'startdate'\n",
    "trips_by_type=df.copy()\n",
    "trips_by_type.set_index('startdate', inplace = True)\n",
    "trips_by_type.head()"
   ]
  },
  {
   "source": [
    "#  TA HELP: Split Train_test"
   ],
   "cell_type": "markdown",
   "metadata": {}
  },
  {
   "cell_type": "code",
   "execution_count": null,
   "metadata": {},
   "outputs": [],
   "source": [
    "# Plot to see stationarity\n",
    "plt.plot(trips_by_type)\n",
    "plt.show"
   ]
  },
  {
   "cell_type": "code",
   "execution_count": null,
   "metadata": {},
   "outputs": [],
   "source": [
    "# Difference data to make more stationary\n",
    "trips_by_type_diff1 = trips_by_type.dff()"
   ]
  },
  {
   "cell_type": "code",
   "execution_count": null,
   "metadata": {},
   "outputs": [],
   "source": [
    "plt.plot(trips_by_type_diff1)\n",
    "plt.show"
   ]
  },
  {
   "cell_type": "code",
   "execution_count": null,
   "metadata": {},
   "outputs": [],
   "source": [
    "# Second round of differencing (As needed)\n",
    "trips_by_type_diff2 = trips_by_type_diff1.diff()\n",
    "plt.plot(trips_by_type_diff2)\n",
    "plt.show"
   ]
  },
  {
   "cell_type": "code",
   "execution_count": null,
   "metadata": {},
   "outputs": [],
   "source": [
    "# Determine MA terms to include in model\n",
    "plot_acf(trips_by_type_diff2)\n",
    "plt.show"
   ]
  },
  {
   "cell_type": "code",
   "execution_count": null,
   "metadata": {},
   "outputs": [],
   "source": [
    "# Determine AR terms to include in model\n",
    "plot_pacf(trips_by_type_diff2)\n",
    "plt.show"
   ]
  },
  {
   "cell_type": "code",
   "execution_count": null,
   "metadata": {},
   "outputs": [],
   "source": [
    "# Fit the ARIMA model\n",
    "ARMA1model_df = ARIMA(trips_by_type, order=( , , )).fit(transparams=False)\n",
    "print(ARMA1model_df)"
   ]
  },
  {
   "cell_type": "code",
   "execution_count": null,
   "metadata": {},
   "outputs": [],
   "source": [
    "#Predict 1 Month Member Count\n",
    "ARMApred_1month_member_count = ARMA1model_df.predict('laststartdate', type='levels')\n",
    "print('forecast/predictions ', ARMApred_1month_member_count)"
   ]
  }
 ]
}